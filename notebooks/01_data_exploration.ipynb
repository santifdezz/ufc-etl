{
 "cells": [
  {
   "cell_type": "markdown",
   "metadata": {},
   "source": [
    "# UFC Data Exploration\n",
    "\n",
    "Este notebook contiene la exploración inicial de los datos scrapeados de UFC, incluyendo:\n",
    "- Carga y visualización inicial de los datasets\n",
    "- Análisis de la estructura de los datos\n",
    "- Estadísticas descriptivas básicas\n",
    "- Visualizaciones exploratorias"
   ]
  },
  {
   "cell_type": "code",
   "execution_count": 1,
   "metadata": {},
   "outputs": [],
   "source": [
    "# Importar librerías necesarias\n",
    "import pandas as pd\n",
    "import numpy as np\n",
    "import matplotlib.pyplot as plt\n",
    "import seaborn as sns\n",
    "from datetime import datetime\n",
    "import warnings\n",
    "warnings.filterwarnings('ignore')\n",
    "\n",
    "# Configuración de visualización\n",
    "plt.style.use('default')\n",
    "sns.set_palette(\"husl\")\n",
    "plt.rcParams['figure.figsize'] = (12, 6)\n",
    "pd.set_option('display.max_columns', None)\n",
    "pd.set_option('display.max_rows', 100)"
   ]
  },
  {
   "cell_type": "markdown",
   "metadata": {},
   "source": [
    "## 1. Carga de Datos"
   ]
  },
  {
   "cell_type": "code",
   "execution_count": null,
   "metadata": {},
   "outputs": [
    {
     "ename": "FileNotFoundError",
     "evalue": "[Errno 2] No such file or directory: 'data/raw/raw_fights.csv'",
     "output_type": "error",
     "traceback": [
      "\u001b[31m---------------------------------------------------------------------------\u001b[39m",
      "\u001b[31mFileNotFoundError\u001b[39m                         Traceback (most recent call last)",
      "\u001b[36mCell\u001b[39m\u001b[36m \u001b[39m\u001b[32mIn[2]\u001b[39m\u001b[32m, line 2\u001b[39m\n\u001b[32m      1\u001b[39m \u001b[38;5;66;03m# Cargar los datasets\u001b[39;00m\n\u001b[32m----> \u001b[39m\u001b[32m2\u001b[39m fights_df = \u001b[43mpd\u001b[49m\u001b[43m.\u001b[49m\u001b[43mread_csv\u001b[49m\u001b[43m(\u001b[49m\u001b[33;43m'\u001b[39;49m\u001b[33;43mdata/raw/raw_fights.csv\u001b[39;49m\u001b[33;43m'\u001b[39;49m\u001b[43m)\u001b[49m\n\u001b[32m      3\u001b[39m events_df = pd.read_csv(\u001b[33m'\u001b[39m\u001b[33mdata/raw/raw_events.csv\u001b[39m\u001b[33m'\u001b[39m)\n\u001b[32m      4\u001b[39m fighters_df = pd.read_csv(\u001b[33m'\u001b[39m\u001b[33mdata/raw/raw_fighters.csv\u001b[39m\u001b[33m'\u001b[39m)\n",
      "\u001b[36mFile \u001b[39m\u001b[32mc:\\Users\\santi\\miniconda3\\envs\\ufc_scraper\\Lib\\site-packages\\pandas\\io\\parsers\\readers.py:1026\u001b[39m, in \u001b[36mread_csv\u001b[39m\u001b[34m(filepath_or_buffer, sep, delimiter, header, names, index_col, usecols, dtype, engine, converters, true_values, false_values, skipinitialspace, skiprows, skipfooter, nrows, na_values, keep_default_na, na_filter, verbose, skip_blank_lines, parse_dates, infer_datetime_format, keep_date_col, date_parser, date_format, dayfirst, cache_dates, iterator, chunksize, compression, thousands, decimal, lineterminator, quotechar, quoting, doublequote, escapechar, comment, encoding, encoding_errors, dialect, on_bad_lines, delim_whitespace, low_memory, memory_map, float_precision, storage_options, dtype_backend)\u001b[39m\n\u001b[32m   1013\u001b[39m kwds_defaults = _refine_defaults_read(\n\u001b[32m   1014\u001b[39m     dialect,\n\u001b[32m   1015\u001b[39m     delimiter,\n\u001b[32m   (...)\u001b[39m\u001b[32m   1022\u001b[39m     dtype_backend=dtype_backend,\n\u001b[32m   1023\u001b[39m )\n\u001b[32m   1024\u001b[39m kwds.update(kwds_defaults)\n\u001b[32m-> \u001b[39m\u001b[32m1026\u001b[39m \u001b[38;5;28;01mreturn\u001b[39;00m \u001b[43m_read\u001b[49m\u001b[43m(\u001b[49m\u001b[43mfilepath_or_buffer\u001b[49m\u001b[43m,\u001b[49m\u001b[43m \u001b[49m\u001b[43mkwds\u001b[49m\u001b[43m)\u001b[49m\n",
      "\u001b[36mFile \u001b[39m\u001b[32mc:\\Users\\santi\\miniconda3\\envs\\ufc_scraper\\Lib\\site-packages\\pandas\\io\\parsers\\readers.py:620\u001b[39m, in \u001b[36m_read\u001b[39m\u001b[34m(filepath_or_buffer, kwds)\u001b[39m\n\u001b[32m    617\u001b[39m _validate_names(kwds.get(\u001b[33m\"\u001b[39m\u001b[33mnames\u001b[39m\u001b[33m\"\u001b[39m, \u001b[38;5;28;01mNone\u001b[39;00m))\n\u001b[32m    619\u001b[39m \u001b[38;5;66;03m# Create the parser.\u001b[39;00m\n\u001b[32m--> \u001b[39m\u001b[32m620\u001b[39m parser = \u001b[43mTextFileReader\u001b[49m\u001b[43m(\u001b[49m\u001b[43mfilepath_or_buffer\u001b[49m\u001b[43m,\u001b[49m\u001b[43m \u001b[49m\u001b[43m*\u001b[49m\u001b[43m*\u001b[49m\u001b[43mkwds\u001b[49m\u001b[43m)\u001b[49m\n\u001b[32m    622\u001b[39m \u001b[38;5;28;01mif\u001b[39;00m chunksize \u001b[38;5;129;01mor\u001b[39;00m iterator:\n\u001b[32m    623\u001b[39m     \u001b[38;5;28;01mreturn\u001b[39;00m parser\n",
      "\u001b[36mFile \u001b[39m\u001b[32mc:\\Users\\santi\\miniconda3\\envs\\ufc_scraper\\Lib\\site-packages\\pandas\\io\\parsers\\readers.py:1620\u001b[39m, in \u001b[36mTextFileReader.__init__\u001b[39m\u001b[34m(self, f, engine, **kwds)\u001b[39m\n\u001b[32m   1617\u001b[39m     \u001b[38;5;28mself\u001b[39m.options[\u001b[33m\"\u001b[39m\u001b[33mhas_index_names\u001b[39m\u001b[33m\"\u001b[39m] = kwds[\u001b[33m\"\u001b[39m\u001b[33mhas_index_names\u001b[39m\u001b[33m\"\u001b[39m]\n\u001b[32m   1619\u001b[39m \u001b[38;5;28mself\u001b[39m.handles: IOHandles | \u001b[38;5;28;01mNone\u001b[39;00m = \u001b[38;5;28;01mNone\u001b[39;00m\n\u001b[32m-> \u001b[39m\u001b[32m1620\u001b[39m \u001b[38;5;28mself\u001b[39m._engine = \u001b[38;5;28;43mself\u001b[39;49m\u001b[43m.\u001b[49m\u001b[43m_make_engine\u001b[49m\u001b[43m(\u001b[49m\u001b[43mf\u001b[49m\u001b[43m,\u001b[49m\u001b[43m \u001b[49m\u001b[38;5;28;43mself\u001b[39;49m\u001b[43m.\u001b[49m\u001b[43mengine\u001b[49m\u001b[43m)\u001b[49m\n",
      "\u001b[36mFile \u001b[39m\u001b[32mc:\\Users\\santi\\miniconda3\\envs\\ufc_scraper\\Lib\\site-packages\\pandas\\io\\parsers\\readers.py:1880\u001b[39m, in \u001b[36mTextFileReader._make_engine\u001b[39m\u001b[34m(self, f, engine)\u001b[39m\n\u001b[32m   1878\u001b[39m     \u001b[38;5;28;01mif\u001b[39;00m \u001b[33m\"\u001b[39m\u001b[33mb\u001b[39m\u001b[33m\"\u001b[39m \u001b[38;5;129;01mnot\u001b[39;00m \u001b[38;5;129;01min\u001b[39;00m mode:\n\u001b[32m   1879\u001b[39m         mode += \u001b[33m\"\u001b[39m\u001b[33mb\u001b[39m\u001b[33m\"\u001b[39m\n\u001b[32m-> \u001b[39m\u001b[32m1880\u001b[39m \u001b[38;5;28mself\u001b[39m.handles = \u001b[43mget_handle\u001b[49m\u001b[43m(\u001b[49m\n\u001b[32m   1881\u001b[39m \u001b[43m    \u001b[49m\u001b[43mf\u001b[49m\u001b[43m,\u001b[49m\n\u001b[32m   1882\u001b[39m \u001b[43m    \u001b[49m\u001b[43mmode\u001b[49m\u001b[43m,\u001b[49m\n\u001b[32m   1883\u001b[39m \u001b[43m    \u001b[49m\u001b[43mencoding\u001b[49m\u001b[43m=\u001b[49m\u001b[38;5;28;43mself\u001b[39;49m\u001b[43m.\u001b[49m\u001b[43moptions\u001b[49m\u001b[43m.\u001b[49m\u001b[43mget\u001b[49m\u001b[43m(\u001b[49m\u001b[33;43m\"\u001b[39;49m\u001b[33;43mencoding\u001b[39;49m\u001b[33;43m\"\u001b[39;49m\u001b[43m,\u001b[49m\u001b[43m \u001b[49m\u001b[38;5;28;43;01mNone\u001b[39;49;00m\u001b[43m)\u001b[49m\u001b[43m,\u001b[49m\n\u001b[32m   1884\u001b[39m \u001b[43m    \u001b[49m\u001b[43mcompression\u001b[49m\u001b[43m=\u001b[49m\u001b[38;5;28;43mself\u001b[39;49m\u001b[43m.\u001b[49m\u001b[43moptions\u001b[49m\u001b[43m.\u001b[49m\u001b[43mget\u001b[49m\u001b[43m(\u001b[49m\u001b[33;43m\"\u001b[39;49m\u001b[33;43mcompression\u001b[39;49m\u001b[33;43m\"\u001b[39;49m\u001b[43m,\u001b[49m\u001b[43m \u001b[49m\u001b[38;5;28;43;01mNone\u001b[39;49;00m\u001b[43m)\u001b[49m\u001b[43m,\u001b[49m\n\u001b[32m   1885\u001b[39m \u001b[43m    \u001b[49m\u001b[43mmemory_map\u001b[49m\u001b[43m=\u001b[49m\u001b[38;5;28;43mself\u001b[39;49m\u001b[43m.\u001b[49m\u001b[43moptions\u001b[49m\u001b[43m.\u001b[49m\u001b[43mget\u001b[49m\u001b[43m(\u001b[49m\u001b[33;43m\"\u001b[39;49m\u001b[33;43mmemory_map\u001b[39;49m\u001b[33;43m\"\u001b[39;49m\u001b[43m,\u001b[49m\u001b[43m \u001b[49m\u001b[38;5;28;43;01mFalse\u001b[39;49;00m\u001b[43m)\u001b[49m\u001b[43m,\u001b[49m\n\u001b[32m   1886\u001b[39m \u001b[43m    \u001b[49m\u001b[43mis_text\u001b[49m\u001b[43m=\u001b[49m\u001b[43mis_text\u001b[49m\u001b[43m,\u001b[49m\n\u001b[32m   1887\u001b[39m \u001b[43m    \u001b[49m\u001b[43merrors\u001b[49m\u001b[43m=\u001b[49m\u001b[38;5;28;43mself\u001b[39;49m\u001b[43m.\u001b[49m\u001b[43moptions\u001b[49m\u001b[43m.\u001b[49m\u001b[43mget\u001b[49m\u001b[43m(\u001b[49m\u001b[33;43m\"\u001b[39;49m\u001b[33;43mencoding_errors\u001b[39;49m\u001b[33;43m\"\u001b[39;49m\u001b[43m,\u001b[49m\u001b[43m \u001b[49m\u001b[33;43m\"\u001b[39;49m\u001b[33;43mstrict\u001b[39;49m\u001b[33;43m\"\u001b[39;49m\u001b[43m)\u001b[49m\u001b[43m,\u001b[49m\n\u001b[32m   1888\u001b[39m \u001b[43m    \u001b[49m\u001b[43mstorage_options\u001b[49m\u001b[43m=\u001b[49m\u001b[38;5;28;43mself\u001b[39;49m\u001b[43m.\u001b[49m\u001b[43moptions\u001b[49m\u001b[43m.\u001b[49m\u001b[43mget\u001b[49m\u001b[43m(\u001b[49m\u001b[33;43m\"\u001b[39;49m\u001b[33;43mstorage_options\u001b[39;49m\u001b[33;43m\"\u001b[39;49m\u001b[43m,\u001b[49m\u001b[43m \u001b[49m\u001b[38;5;28;43;01mNone\u001b[39;49;00m\u001b[43m)\u001b[49m\u001b[43m,\u001b[49m\n\u001b[32m   1889\u001b[39m \u001b[43m\u001b[49m\u001b[43m)\u001b[49m\n\u001b[32m   1890\u001b[39m \u001b[38;5;28;01massert\u001b[39;00m \u001b[38;5;28mself\u001b[39m.handles \u001b[38;5;129;01mis\u001b[39;00m \u001b[38;5;129;01mnot\u001b[39;00m \u001b[38;5;28;01mNone\u001b[39;00m\n\u001b[32m   1891\u001b[39m f = \u001b[38;5;28mself\u001b[39m.handles.handle\n",
      "\u001b[36mFile \u001b[39m\u001b[32mc:\\Users\\santi\\miniconda3\\envs\\ufc_scraper\\Lib\\site-packages\\pandas\\io\\common.py:873\u001b[39m, in \u001b[36mget_handle\u001b[39m\u001b[34m(path_or_buf, mode, encoding, compression, memory_map, is_text, errors, storage_options)\u001b[39m\n\u001b[32m    868\u001b[39m \u001b[38;5;28;01melif\u001b[39;00m \u001b[38;5;28misinstance\u001b[39m(handle, \u001b[38;5;28mstr\u001b[39m):\n\u001b[32m    869\u001b[39m     \u001b[38;5;66;03m# Check whether the filename is to be opened in binary mode.\u001b[39;00m\n\u001b[32m    870\u001b[39m     \u001b[38;5;66;03m# Binary mode does not support 'encoding' and 'newline'.\u001b[39;00m\n\u001b[32m    871\u001b[39m     \u001b[38;5;28;01mif\u001b[39;00m ioargs.encoding \u001b[38;5;129;01mand\u001b[39;00m \u001b[33m\"\u001b[39m\u001b[33mb\u001b[39m\u001b[33m\"\u001b[39m \u001b[38;5;129;01mnot\u001b[39;00m \u001b[38;5;129;01min\u001b[39;00m ioargs.mode:\n\u001b[32m    872\u001b[39m         \u001b[38;5;66;03m# Encoding\u001b[39;00m\n\u001b[32m--> \u001b[39m\u001b[32m873\u001b[39m         handle = \u001b[38;5;28;43mopen\u001b[39;49m\u001b[43m(\u001b[49m\n\u001b[32m    874\u001b[39m \u001b[43m            \u001b[49m\u001b[43mhandle\u001b[49m\u001b[43m,\u001b[49m\n\u001b[32m    875\u001b[39m \u001b[43m            \u001b[49m\u001b[43mioargs\u001b[49m\u001b[43m.\u001b[49m\u001b[43mmode\u001b[49m\u001b[43m,\u001b[49m\n\u001b[32m    876\u001b[39m \u001b[43m            \u001b[49m\u001b[43mencoding\u001b[49m\u001b[43m=\u001b[49m\u001b[43mioargs\u001b[49m\u001b[43m.\u001b[49m\u001b[43mencoding\u001b[49m\u001b[43m,\u001b[49m\n\u001b[32m    877\u001b[39m \u001b[43m            \u001b[49m\u001b[43merrors\u001b[49m\u001b[43m=\u001b[49m\u001b[43merrors\u001b[49m\u001b[43m,\u001b[49m\n\u001b[32m    878\u001b[39m \u001b[43m            \u001b[49m\u001b[43mnewline\u001b[49m\u001b[43m=\u001b[49m\u001b[33;43m\"\u001b[39;49m\u001b[33;43m\"\u001b[39;49m\u001b[43m,\u001b[49m\n\u001b[32m    879\u001b[39m \u001b[43m        \u001b[49m\u001b[43m)\u001b[49m\n\u001b[32m    880\u001b[39m     \u001b[38;5;28;01melse\u001b[39;00m:\n\u001b[32m    881\u001b[39m         \u001b[38;5;66;03m# Binary mode\u001b[39;00m\n\u001b[32m    882\u001b[39m         handle = \u001b[38;5;28mopen\u001b[39m(handle, ioargs.mode)\n",
      "\u001b[31mFileNotFoundError\u001b[39m: [Errno 2] No such file or directory: 'data/raw/raw_fights.csv'"
     ]
    }
   ],
   "source": [
    "# Cargar los datasets\n",
    "fights_df = pd.read_csv('data/raw/raw_fights.csv')\n",
    "events_df = pd.read_csv('data/raw/raw_events.csv')\n",
    "fighters_df = pd.read_csv('data/raw/raw_fighters.csv')\n",
    "\n",
    "\n",
    "print(\"Datasets cargados exitosamente!\")\n",
    "print(f\"Fights: {fights_df.shape[0]} filas, {fights_df.shape[1]} columnas\")\n",
    "print(f\"Events: {events_df.shape[0]} filas, {events_df.shape[1]} columnas\")\n",
    "print(f\"Fighters: {fighters_df.shape[0]} filas, {fighters_df.shape[1]} columnas\")"
   ]
  },
  {
   "cell_type": "markdown",
   "metadata": {},
   "source": [
    "## 2. Estructura de los Datos"
   ]
  },
  {
   "cell_type": "code",
   "execution_count": null,
   "metadata": {},
   "outputs": [],
   "source": [
    "# Información general de cada dataset\n",
    "print(\"=== FIGHTS DATASET ===\")\n",
    "print(fights_df.info())\n",
    "print(\"\\nPrimeras 3 filas:\")\n",
    "display(fights_df.head(3))"
   ]
  },
  {
   "cell_type": "code",
   "execution_count": null,
   "metadata": {},
   "outputs": [],
   "source": [
    "print(\"=== EVENTS DATASET ===\")\n",
    "print(events_df.info())\n",
    "print(\"\\nPrimeras 3 filas:\")\n",
    "display(events_df.head(3))"
   ]
  },
  {
   "cell_type": "code",
   "execution_count": null,
   "metadata": {},
   "outputs": [],
   "source": [
    "print(\"=== FIGHTERS DATASET ===\")\n",
    "print(fighters_df.info())\n",
    "print(\"\\nPrimeras 3 filas:\")\n",
    "display(fighters_df.head(3))"
   ]
  },
  {
   "cell_type": "markdown",
   "metadata": {},
   "source": [
    "## 3. Análisis de Valores Únicos y Faltantes"
   ]
  },
  {
   "cell_type": "code",
   "execution_count": null,
   "metadata": {},
   "outputs": [],
   "source": [
    "# Función para analizar valores faltantes y únicos\n",
    "def analyze_missing_and_unique(df, name):\n",
    "    print(f\"\\n=== {name.upper()} ANALYSIS ===\")\n",
    "    \n",
    "    missing_data = pd.DataFrame({\n",
    "        'Column': df.columns,\n",
    "        'Missing_Count': df.isnull().sum(),\n",
    "        'Missing_Percentage': (df.isnull().sum() / len(df)) * 100,\n",
    "        'Unique_Values': [df[col].nunique() for col in df.columns],\n",
    "        'Data_Type': df.dtypes\n",
    "    })\n",
    "    \n",
    "    # Ordenar por porcentaje de valores faltantes\n",
    "    missing_data = missing_data.sort_values('Missing_Percentage', ascending=False)\n",
    "    \n",
    "    display(missing_data)\n",
    "    \n",
    "    return missing_data\n",
    "\n",
    "# Analizar cada dataset\n",
    "fights_analysis = analyze_missing_and_unique(fights_df, 'Fights')\n",
    "events_analysis = analyze_missing_and_unique(events_df, 'Events')\n",
    "fighters_analysis = analyze_missing_and_unique(fighters_df, 'Fighters')"
   ]
  },
  {
   "cell_type": "markdown",
   "metadata": {},
   "source": [
    "## 4. Estadísticas Descriptivas"
   ]
  },
  {
   "cell_type": "code",
   "execution_count": null,
   "metadata": {},
   "outputs": [],
   "source": [
    "# Estadísticas descriptivas para columnas numéricas en fights\n",
    "print(\"=== FIGHTS - ESTADÍSTICAS NUMÉRICAS ===\")\n",
    "numeric_cols_fights = fights_df.select_dtypes(include=[np.number]).columns\n",
    "if len(numeric_cols_fights) > 0:\n",
    "    display(fights_df[numeric_cols_fights].describe())\n",
    "else:\n",
    "    print(\"No hay columnas numéricas detectadas automáticamente\")\n",
    "    # Intentar convertir algunas columnas que deberían ser numéricas\n",
    "    numeric_like_cols = ['round', 'kd1', 'kd2']\n",
    "    for col in numeric_like_cols:\n",
    "        if col in fights_df.columns:\n",
    "            try:\n",
    "                fights_df[col] = pd.to_numeric(fights_df[col], errors='coerce')\n",
    "            except:\n",
    "                pass\n",
    "    \n",
    "    numeric_cols_fights = fights_df.select_dtypes(include=[np.number]).columns\n",
    "    if len(numeric_cols_fights) > 0:\n",
    "        display(fights_df[numeric_cols_fights].describe())"
   ]
  },
  {
   "cell_type": "code",
   "execution_count": null,
   "metadata": {},
   "outputs": [],
   "source": [
    "# Estadísticas descriptivas para fighters\n",
    "print(\"=== FIGHTERS - ESTADÍSTICAS NUMÉRICAS ===\")\n",
    "numeric_cols_fighters = fighters_df.select_dtypes(include=[np.number]).columns\n",
    "if len(numeric_cols_fighters) > 0:\n",
    "    display(fighters_df[numeric_cols_fighters].describe())\n",
    "else:\n",
    "    print(\"Convirtiendo columnas numéricas...\")\n",
    "    # Columnas que deberían ser numéricas\n",
    "    numeric_like_cols = ['wins', 'losses', 'defeats', 'slpm', 'str_acc', 'sapm', 'str_def', 'td_avg', 'td_acc', 'td_def', 'sub_avg']\n",
    "    for col in numeric_like_cols:\n",
    "        if col in fighters_df.columns:\n",
    "            # Limpiar porcentajes y convertir\n",
    "            fighters_df[col] = fighters_df[col].astype(str).str.replace('%', '').replace('', np.nan)\n",
    "            fighters_df[col] = pd.to_numeric(fighters_df[col], errors='coerce')\n",
    "    \n",
    "    numeric_cols_fighters = fighters_df.select_dtypes(include=[np.number]).columns\n",
    "    display(fighters_df[numeric_cols_fighters].describe())"
   ]
  },
  {
   "cell_type": "markdown",
   "metadata": {},
   "source": [
    "## 5. Análisis de Categorías"
   ]
  },
  {
   "cell_type": "code",
   "execution_count": null,
   "metadata": {},
   "outputs": [],
   "source": [
    "# Análisis de weight classes\n",
    "if 'weight_class' in fights_df.columns:\n",
    "    print(\"=== DISTRIBUCIÓN DE WEIGHT CLASSES ===\")\n",
    "    weight_class_counts = fights_df['weight_class'].value_counts()\n",
    "    print(weight_class_counts)\n",
    "    \n",
    "    # Gráfico de barras\n",
    "    plt.figure(figsize=(12, 6))\n",
    "    weight_class_counts.plot(kind='bar', color='skyblue', edgecolor='navy')\n",
    "    plt.title('Distribución de Peleas por Categoría de Peso', fontsize=14, fontweight='bold')\n",
    "    plt.xlabel('Categoría de Peso')\n",
    "    plt.ylabel('Número de Peleas')\n",
    "    plt.xticks(rotation=45)\n",
    "    plt.tight_layout()\n",
    "    plt.show()"
   ]
  },
  {
   "cell_type": "code",
   "execution_count": null,
   "metadata": {},
   "outputs": [],
   "source": [
    "# Análisis de métodos de finalización\n",
    "if 'method' in fights_df.columns:\n",
    "    print(\"\\n=== MÉTODOS DE FINALIZACIÓN ===\")\n",
    "    method_counts = fights_df['method'].value_counts()\n",
    "    print(method_counts)\n",
    "    \n",
    "    # Gráfico de pie\n",
    "    plt.figure(figsize=(10, 8))\n",
    "    plt.pie(method_counts.values, labels=method_counts.index, autopct='%1.1f%%', startangle=90)\n",
    "    plt.title('Distribución de Métodos de Finalización', fontsize=14, fontweight='bold')\n",
    "    plt.axis('equal')\n",
    "    plt.show()"
   ]
  },
  {
   "cell_type": "code",
   "execution_count": null,
   "metadata": {},
   "outputs": [],
   "source": [
    "# Análisis de stance (postura) de fighters\n",
    "if 'stance' in fighters_df.columns:\n",
    "    print(\"\\n=== DISTRIBUCIÓN DE STANCE ===\")\n",
    "    stance_counts = fighters_df['stance'].value_counts()\n",
    "    print(stance_counts)\n",
    "    \n",
    "    # Gráfico de barras\n",
    "    plt.figure(figsize=(8, 6))\n",
    "    stance_counts.plot(kind='bar', color='lightgreen', edgecolor='darkgreen')\n",
    "    plt.title('Distribución de Stance de los Peleadores', fontsize=14, fontweight='bold')\n",
    "    plt.xlabel('Stance')\n",
    "    plt.ylabel('Número de Peleadores')\n",
    "    plt.xticks(rotation=0)\n",
    "    plt.tight_layout()\n",
    "    plt.show()"
   ]
  },
  {
   "cell_type": "markdown",
   "metadata": {},
   "source": [
    "## 6. Análisis de Relaciones entre Datasets"
   ]
  },
  {
   "cell_type": "code",
   "execution_count": null,
   "metadata": {},
   "outputs": [],
   "source": [
    "# Verificar relaciones entre datasets\n",
    "print(\"=== ANÁLISIS DE RELACIONES ===\")\n",
    "\n",
    "# Events únicos en fights vs events dataset\n",
    "if 'event_id' in fights_df.columns and 'event_id' in events_df.columns:\n",
    "    events_in_fights = set(fights_df['event_id'].unique())\n",
    "    events_in_events = set(events_df['event_id'].unique())\n",
    "    \n",
    "    print(f\"Eventos únicos en fights: {len(events_in_fights)}\")\n",
    "    print(f\"Eventos únicos en events: {len(events_in_events)}\")\n",
    "    print(f\"Eventos en common: {len(events_in_fights.intersection(events_in_events))}\")\n",
    "    \n",
    "    if events_in_fights - events_in_events:\n",
    "        print(f\"Eventos en fights pero no en events: {events_in_fights - events_in_events}\")\n",
    "    if events_in_events - events_in_fights:\n",
    "        print(f\"Eventos en events pero no en fights: {events_in_events - events_in_fights}\")\n",
    "\n",
    "print()\n",
    "\n",
    "# Fighters únicos en fights vs fighters dataset\n",
    "if all(col in fights_df.columns for col in ['fighter1_id', 'fighter2_id']) and 'fighter_id' in fighters_df.columns:\n",
    "    fighters_in_fights = set()\n",
    "    fighters_in_fights.update(fights_df['fighter1_id'].dropna().unique())\n",
    "    fighters_in_fights.update(fights_df['fighter2_id'].dropna().unique())\n",
    "    \n",
    "    fighters_in_fighters = set(fighters_df['fighter_id'].unique())\n",
    "    \n",
    "    print(f\"Peleadores únicos en fights: {len(fighters_in_fights)}\")\n",
    "    print(f\"Peleadores únicos en fighters: {len(fighters_in_fighters)}\")\n",
    "    print(f\"Peleadores en común: {len(fighters_in_fights.intersection(fighters_in_fighters))}\")\n",
    "    \n",
    "    missing_fighters = fighters_in_fights - fighters_in_fighters\n",
    "    if missing_fighters:\n",
    "        print(f\"Peleadores en fights pero no en fighters dataset: {len(missing_fighters)}\")\n",
    "        if len(missing_fighters) <= 10:\n",
    "            print(f\"IDs faltantes: {missing_fighters}\")"
   ]
  },
  {
   "cell_type": "markdown",
   "metadata": {},
   "source": [
    "## 7. Análisis Temporal (si aplica)"
   ]
  },
  {
   "cell_type": "code",
   "execution_count": null,
   "metadata": {},
   "outputs": [],
   "source": [
    "# Análisis temporal de eventos\n",
    "if 'date' in events_df.columns:\n",
    "    print(\"=== ANÁLISIS TEMPORAL DE EVENTOS ===\")\n",
    "    \n",
    "    # Intentar parsear fechas\n",
    "    events_df['date_parsed'] = pd.to_datetime(events_df['date'], errors='coerce')\n",
    "    \n",
    "    if events_df['date_parsed'].notna().sum() > 0:\n",
    "        # Estadísticas de fechas\n",
    "        print(f\"Rango de fechas: {events_df['date_parsed'].min()} a {events_df['date_parsed'].max()}\")\n",
    "        \n",
    "        # Distribución por año\n",
    "        events_df['year'] = events_df['date_parsed'].dt.year\n",
    "        year_counts = events_df['year'].value_counts().sort_index()\n",
    "        \n",
    "        plt.figure(figsize=(12, 6))\n",
    "        year_counts.plot(kind='line', marker='o', linewidth=2, markersize=8)\n",
    "        plt.title('Número de Eventos por Año', fontsize=14, fontweight='bold')\n",
    "        plt.xlabel('Año')\n",
    "        plt.ylabel('Número de Eventos')\n",
    "        plt.grid(True, alpha=0.3)\n",
    "        plt.tight_layout()\n",
    "        plt.show()\n",
    "    else:\n",
    "        print(\"No se pudieron parsear las fechas correctamente\")\n",
    "        print(\"Formatos de fecha encontrados:\")\n",
    "        print(events_df['date'].value_counts().head())"
   ]
  },
  {
   "cell_type": "markdown",
   "metadata": {},
   "source": [
    "## 8. Resumen de la Exploración"
   ]
  },
  {
   "cell_type": "code",
   "execution_count": null,
   "metadata": {},
   "outputs": [],
   "source": [
    "print(\"=== RESUMEN DE LA EXPLORACIÓN DE DATOS ===\")\n",
    "print()\n",
    "print(\"DATASETS ANALIZADOS:\")\n",
    "print(f\"1. Fights: {fights_df.shape[0]} peleas con {fights_df.shape[1]} atributos\")\n",
    "print(f\"2. Events: {events_df.shape[0]} eventos con {events_df.shape[1]} atributos\")\n",
    "print(f\"3. Fighters: {fighters_df.shape[0]} peleadores con {fighters_df.shape[1]} atributos\")\n",
    "print()\n",
    "\n",
    "print(\"PRINCIPALES HALLAZGOS:\")\n",
    "print(\"- Estructura de datos compleja con múltiples métricas por pelea\")\n",
    "print(\"- Datos de estadísticas detalladas (striking, grappling, etc.)\")\n",
    "print(\"- Información de peleadores con métricas de rendimiento\")\n",
    "print(\"- Datos de eventos con fechas y ubicaciones\")\n",
    "print()\n",
    "\n",
    "print(\"PRÓXIMOS PASOS:\")\n",
    "print(\"1. Data Quality Analysis - Identificar problemas de calidad específicos\")\n",
    "print(\"2. Data Cleaning - Limpiar y estandarizar los datos\")\n",
    "print(\"3. Feature Engineering - Crear variables derivadas útiles\")\n",
    "print(\"4. Análisis más profundo de patrones y correlaciones\")"
   ]
  },
  {
   "cell_type": "code",
   "execution_count": null,
   "metadata": {},
   "outputs": [],
   "source": [
    "# Guardar un resumen de los hallazgos\n",
    "summary_data = {\n",
    "    'dataset': ['fights', 'events', 'fighters'],\n",
    "    'rows': [fights_df.shape[0], events_df.shape[0], fighters_df.shape[0]],\n",
    "    'columns': [fights_df.shape[1], events_df.shape[1], fighters_df.shape[1]],\n",
    "    'missing_columns': [\n",
    "        fights_analysis[fights_analysis['Missing_Count'] > 0].shape[0],\n",
    "        events_analysis[events_analysis['Missing_Count'] > 0].shape[0],\n",
    "        fighters_analysis[fighters_analysis['Missing_Count'] > 0].shape[0]\n",
    "    ]\n",
    "}\n",
    "\n",
    "summary_df = pd.DataFrame(summary_data)\n",
    "summary_df.to_csv('data_exploration_summary.csv', index=False)\n",
    "print(\"Resumen guardado en 'data_exploration_summary.csv'\")"
   ]
  }
 ],
 "metadata": {
  "kernelspec": {
   "display_name": "ufc_scraper",
   "language": "python",
   "name": "python3"
  },
  "language_info": {
   "codemirror_mode": {
    "name": "ipython",
    "version": 3
   },
   "file_extension": ".py",
   "mimetype": "text/x-python",
   "name": "python",
   "nbconvert_exporter": "python",
   "pygments_lexer": "ipython3",
   "version": "3.12.7"
  }
 },
 "nbformat": 4,
 "nbformat_minor": 4
}
